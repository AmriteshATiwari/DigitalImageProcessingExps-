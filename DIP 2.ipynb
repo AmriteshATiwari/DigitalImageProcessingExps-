{
 "cells": [
  {
   "cell_type": "code",
   "execution_count": 1,
   "id": "266f830f",
   "metadata": {},
   "outputs": [
    {
     "name": "stdout",
     "output_type": "stream",
     "text": [
      "[[[ 73  55 156]\n",
      "  [ 73  55 156]\n",
      "  [ 73  55 156]\n",
      "  ...\n",
      "  [122 138 204]\n",
      "  [121 137 203]\n",
      "  [123 136 204]]\n",
      "\n",
      " [[ 73  55 156]\n",
      "  [ 73  55 156]\n",
      "  [ 73  55 156]\n",
      "  ...\n",
      "  [121 137 203]\n",
      "  [121 137 203]\n",
      "  [123 136 204]]\n",
      "\n",
      " [[ 73  55 156]\n",
      "  [ 73  55 156]\n",
      "  [ 74  56 157]\n",
      "  ...\n",
      "  [121 137 203]\n",
      "  [121 137 203]\n",
      "  [123 136 204]]\n",
      "\n",
      " ...\n",
      "\n",
      " [[ 96  76 150]\n",
      "  [105  85 159]\n",
      "  [109  89 161]\n",
      "  ...\n",
      "  [ 70  46 116]\n",
      "  [ 61  37 107]\n",
      "  [ 57  33 103]]\n",
      "\n",
      " [[ 86  65 139]\n",
      "  [ 95  75 148]\n",
      "  [ 98  79 150]\n",
      "  ...\n",
      "  [ 68  44 114]\n",
      "  [ 52  29  99]\n",
      "  [ 59  36 106]]\n",
      "\n",
      " [[ 83  61 133]\n",
      "  [ 92  70 142]\n",
      "  [ 86  64 136]\n",
      "  ...\n",
      "  [ 66  43 113]\n",
      "  [ 58  35 105]\n",
      "  [ 58  35 105]]]\n"
     ]
    }
   ],
   "source": [
    "import cv2\n",
    "path=r'lenna.jpg'\n",
    "src =cv2.imread(path)\n",
    "print(src)"
   ]
  },
  {
   "cell_type": "code",
   "execution_count": 2,
   "id": "9deeb11d",
   "metadata": {},
   "outputs": [
    {
     "name": "stdout",
     "output_type": "stream",
     "text": [
      "(373, 497, 3)\n"
     ]
    }
   ],
   "source": [
    "import cv2\n",
    "path=r'lenna.jpg'\n",
    "src =cv2.imread(path)\n",
    "print(src.shape)"
   ]
  },
  {
   "cell_type": "markdown",
   "id": "33610834",
   "metadata": {},
   "source": [
    "# Red image"
   ]
  },
  {
   "cell_type": "code",
   "execution_count": 16,
   "id": "9e9b264b",
   "metadata": {},
   "outputs": [
    {
     "name": "stdout",
     "output_type": "stream",
     "text": [
      "(373, 497, 3)\n"
     ]
    },
    {
     "data": {
      "text/plain": [
       "-1"
      ]
     },
     "execution_count": 16,
     "metadata": {},
     "output_type": "execute_result"
    }
   ],
   "source": [
    "import cv2\n",
    "path=r'lenna.jpg'\n",
    "src =cv2.imread(path)\n",
    "print(src.shape)\n",
    "src[:,:,0]=0\n",
    "src[:,:,1]=0\n",
    "cv2.imshow(\"\",src)\n",
    "cv2.waitKey(0)"
   ]
  },
  {
   "cell_type": "markdown",
   "id": "830cc4d9",
   "metadata": {},
   "source": [
    "# Green image"
   ]
  },
  {
   "cell_type": "code",
   "execution_count": 39,
   "id": "ebe1883c",
   "metadata": {},
   "outputs": [
    {
     "name": "stdout",
     "output_type": "stream",
     "text": [
      "(373, 497, 3)\n"
     ]
    },
    {
     "data": {
      "text/plain": [
       "-1"
      ]
     },
     "execution_count": 39,
     "metadata": {},
     "output_type": "execute_result"
    }
   ],
   "source": [
    "import cv2\n",
    "path=r'lenna.jpg'\n",
    "src =cv2.imread(path)\n",
    "print(src.shape)\n",
    "src[:,:,2]=0\n",
    "src[:,:,0]=0\n",
    "cv2.imshow(\"\",src)\n",
    "cv2.waitKey(0)"
   ]
  },
  {
   "cell_type": "markdown",
   "id": "50aba581",
   "metadata": {},
   "source": [
    "# Blue image"
   ]
  },
  {
   "cell_type": "code",
   "execution_count": 45,
   "id": "5417db32",
   "metadata": {},
   "outputs": [
    {
     "name": "stdout",
     "output_type": "stream",
     "text": [
      "(373, 497, 3)\n"
     ]
    },
    {
     "data": {
      "text/plain": [
       "-1"
      ]
     },
     "execution_count": 45,
     "metadata": {},
     "output_type": "execute_result"
    }
   ],
   "source": [
    "import cv2\n",
    "path=r'lenna.jpg'\n",
    "src =cv2.imread(path)\n",
    "print(src.shape)\n",
    "src[:,:,1]=0 \n",
    "src[:,:,2]=0\n",
    "cv2.imshow(\"\",src)\n",
    "cv2.waitKey(0)"
   ]
  },
  {
   "cell_type": "code",
   "execution_count": 51,
   "id": "9912deba",
   "metadata": {},
   "outputs": [
    {
     "data": {
      "text/plain": [
       "-1"
      ]
     },
     "execution_count": 51,
     "metadata": {},
     "output_type": "execute_result"
    }
   ],
   "source": [
    "src1=src.copy()\n",
    "src[:,:,1]=0 \n",
    "src[:,:,2]=0\n",
    "cv2.imshow(\"\",src1)\n",
    "cv2.waitKey(0)"
   ]
  },
  {
   "cell_type": "code",
   "execution_count": 50,
   "id": "d22c62ef",
   "metadata": {},
   "outputs": [
    {
     "data": {
      "text/plain": [
       "-1"
      ]
     },
     "execution_count": 50,
     "metadata": {},
     "output_type": "execute_result"
    }
   ],
   "source": [
    "src2=src.copy()\n",
    "src[:,:,2]=0 \n",
    "src[:,:,0]=0\n",
    "cv2.imshow(\"\",src2)\n",
    "cv2.waitKey(0)"
   ]
  },
  {
   "cell_type": "code",
   "execution_count": 41,
   "id": "27cc13e5",
   "metadata": {},
   "outputs": [
    {
     "name": "stdout",
     "output_type": "stream",
     "text": [
      "[76 76 76]\n"
     ]
    }
   ],
   "source": [
    "import cv2\n",
    "path=r'lenna.jpg'\n",
    "src =cv2.imread(path)\n",
    "print(src[200,200])"
   ]
  },
  {
   "cell_type": "code",
   "execution_count": 52,
   "id": "6cd63f98",
   "metadata": {},
   "outputs": [
    {
     "name": "stdout",
     "output_type": "stream",
     "text": [
      "[171 171 171]\n"
     ]
    }
   ],
   "source": [
    "import cv2\n",
    "path=r'lenna.jpg'\n",
    "src=cv2.imread(path)\n",
    "print(src[100,100])"
   ]
  },
  {
   "cell_type": "code",
   "execution_count": 56,
   "id": "cf5f5818",
   "metadata": {},
   "outputs": [
    {
     "name": "stdout",
     "output_type": "stream",
     "text": [
      "171\n",
      "171\n",
      "171\n"
     ]
    }
   ],
   "source": [
    "import cv2\n",
    "path=r'lenna.jpg'\n",
    "src=cv2.imread(path)\n",
    "print(src[100,100][0])\n",
    "print(src[100,100][1])\n",
    "print(src[100,100][2])"
   ]
  },
  {
   "cell_type": "code",
   "execution_count": 57,
   "id": "c77e6fc1",
   "metadata": {},
   "outputs": [
    {
     "name": "stdout",
     "output_type": "stream",
     "text": [
      "255\n"
     ]
    }
   ],
   "source": [
    "import  cv2\n",
    "src=cv2.imread(path)\n",
    "max=src.max()\n",
    "print(max)"
   ]
  },
  {
   "cell_type": "markdown",
   "id": "a1ea5e49",
   "metadata": {},
   "source": [
    "# Negtive image"
   ]
  },
  {
   "cell_type": "code",
   "execution_count": 61,
   "id": "a0a23923",
   "metadata": {},
   "outputs": [
    {
     "data": {
      "text/plain": [
       "-1"
      ]
     },
     "execution_count": 61,
     "metadata": {},
     "output_type": "execute_result"
    }
   ],
   "source": [
    "import  cv2\n",
    "src=cv2.imread(path)\n",
    "max=src.max()\n",
    "neg_img=max-src\n",
    "cv2.imshow(\"\",neg_img)\n",
    "cv2.waitKey(0)\n"
   ]
  },
  {
   "cell_type": "code",
   "execution_count": 68,
   "id": "b6137ba0",
   "metadata": {},
   "outputs": [
    {
     "name": "stdout",
     "output_type": "stream",
     "text": [
      "(373, 497)\n"
     ]
    }
   ],
   "source": [
    "import  cv2\n",
    "src=cv2.imread(path)\n",
    "grey_image=cv2.cvtColor(src, cv2.COLOR_BGR2GRAY)\n",
    "cv2.imshow(\"\",src)\n",
    "cv2.waitKey(0)\n",
    "print(grey_image.shape)"
   ]
  },
  {
   "cell_type": "code",
   "execution_count": 73,
   "id": "a93eb45a",
   "metadata": {},
   "outputs": [
    {
     "data": {
      "text/plain": [
       "-1"
      ]
     },
     "execution_count": 73,
     "metadata": {},
     "output_type": "execute_result"
    }
   ],
   "source": [
    "import  cv2\n",
    "src=cv2.imread(path)\n",
    "grey_image=cv2.cvtColor(src, cv2.COLOR_BGR2GRAY)\n",
    "hsvImage = cv2.cvtColor(src, cv2.COLOR_BGR2HSV)\n",
    "ycrImage = cv2.cvtColor(src, cv2.COLOR_BGR2YCR_CB)\n",
    "cv2.imshow(\"grey_image\",src)\n",
    "cv2.imshow(\"hsvImage\",src)\n",
    "cv2.imshow(\"ycrImage\",src)\n",
    "cv2.waitKey(0)"
   ]
  },
  {
   "cell_type": "code",
   "execution_count": null,
   "id": "a9e1ef09",
   "metadata": {},
   "outputs": [],
   "source": []
  }
 ],
 "metadata": {
  "kernelspec": {
   "display_name": "Python 3 (ipykernel)",
   "language": "python",
   "name": "python3"
  },
  "language_info": {
   "codemirror_mode": {
    "name": "ipython",
    "version": 3
   },
   "file_extension": ".py",
   "mimetype": "text/x-python",
   "name": "python",
   "nbconvert_exporter": "python",
   "pygments_lexer": "ipython3",
   "version": "3.9.13"
  }
 },
 "nbformat": 4,
 "nbformat_minor": 5
}
