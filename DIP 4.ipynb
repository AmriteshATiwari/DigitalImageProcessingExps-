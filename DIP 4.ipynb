{
 "cells": [
  {
   "cell_type": "markdown",
   "id": "fbc630a1",
   "metadata": {},
   "source": [
    "# Addition of two images"
   ]
  },
  {
   "cell_type": "code",
   "execution_count": 23,
   "id": "36707a68",
   "metadata": {},
   "outputs": [
    {
     "data": {
      "text/plain": [
       "-1"
      ]
     },
     "execution_count": 23,
     "metadata": {},
     "output_type": "execute_result"
    }
   ],
   "source": [
    "import cv2\n",
    "img1 = cv2.imread('raj.jpg')\n",
    "img2 = cv2.imread('raj1.jpg')\n",
    "img =  cv2.add(img1,img2)\n",
    "cv2.imshow('image', img)\n",
    "cv2.waitKey(0)"
   ]
  },
  {
   "cell_type": "markdown",
   "id": "870895b6",
   "metadata": {},
   "source": [
    "# Subtraction of two images"
   ]
  },
  {
   "cell_type": "code",
   "execution_count": 24,
   "id": "89050e99",
   "metadata": {},
   "outputs": [
    {
     "data": {
      "text/plain": [
       "-1"
      ]
     },
     "execution_count": 24,
     "metadata": {},
     "output_type": "execute_result"
    }
   ],
   "source": [
    "import cv2\n",
    "img1 = cv2.imread('raj.jpg')\n",
    "img2 = cv2.imread('raj1.jpg')\n",
    "img =  cv2.subtract(img1,img2)\n",
    "cv2.imshow('image', img)\n",
    "cv2.waitKey(0)"
   ]
  },
  {
   "cell_type": "markdown",
   "id": "c7e6f2dd",
   "metadata": {},
   "source": [
    "# bitwise operations -And"
   ]
  },
  {
   "cell_type": "code",
   "execution_count": 30,
   "id": "d298a73c",
   "metadata": {},
   "outputs": [
    {
     "data": {
      "text/plain": [
       "-1"
      ]
     },
     "execution_count": 30,
     "metadata": {},
     "output_type": "execute_result"
    }
   ],
   "source": [
    "import cv2\n",
    "img1 = cv2.imread('11.png')\n",
    "img2 = cv2.imread('12.png')\n",
    "dest_and = cv2.bitwise_and(img2, img1, mask = None)\n",
    "cv2.imshow('Bitwise And', dest_and)\n",
    "cv2.waitKey(0)"
   ]
  },
  {
   "cell_type": "markdown",
   "id": "6cb389f9",
   "metadata": {},
   "source": [
    "# bitwise operations -OR"
   ]
  },
  {
   "cell_type": "code",
   "execution_count": 31,
   "id": "10d97d6f",
   "metadata": {},
   "outputs": [
    {
     "data": {
      "text/plain": [
       "-1"
      ]
     },
     "execution_count": 31,
     "metadata": {},
     "output_type": "execute_result"
    }
   ],
   "source": [
    "import cv2\n",
    "img1 = cv2.imread('11.png')\n",
    "img2 = cv2.imread('12.png')\n",
    "bit_or = cv2.bitwise_or(img2, img1, mask = None)\n",
    "cv2.imshow('Bitwise OR', bit_or)\n",
    "cv2.waitKey(0)"
   ]
  },
  {
   "cell_type": "markdown",
   "id": "f493cac6",
   "metadata": {},
   "source": [
    "# bitwise operations -XOR"
   ]
  },
  {
   "cell_type": "code",
   "execution_count": 32,
   "id": "b1b5543a",
   "metadata": {},
   "outputs": [
    {
     "data": {
      "text/plain": [
       "-1"
      ]
     },
     "execution_count": 32,
     "metadata": {},
     "output_type": "execute_result"
    }
   ],
   "source": [
    "import cv2\n",
    "img1 = cv2.imread('11.png')\n",
    "img2 = cv2.imread('12.png')\n",
    "bit_xor = cv2.bitwise_xor(img1, img2, mask = None)\n",
    "cv2.imshow('Bitwise XOR', bit_xor)\n",
    "cv2.waitKey(0)\n"
   ]
  },
  {
   "cell_type": "markdown",
   "id": "41c4463e",
   "metadata": {},
   "source": [
    "# bitwise opeartion -NOT"
   ]
  },
  {
   "cell_type": "code",
   "execution_count": 2,
   "id": "21845dfe",
   "metadata": {},
   "outputs": [
    {
     "data": {
      "text/plain": [
       "-1"
      ]
     },
     "execution_count": 2,
     "metadata": {},
     "output_type": "execute_result"
    }
   ],
   "source": [
    "import cv2\n",
    "img1 = cv2.imread('11.png')\n",
    "img2 = cv2.imread('12.png')\n",
    "dest_not1 = cv2.bitwise_not(img1, mask = None)\n",
    "dest_not2 = cv2.bitwise_not(img2, mask = None)\n",
    "cv2.imshow('Bitwise NOT on image 1', dest_not1)\n",
    "cv2.imshow('Bitwise NOT on image 2', dest_not2)\n",
    "cv2.waitKey(0)\n"
   ]
  },
  {
   "cell_type": "markdown",
   "id": "d11f6535",
   "metadata": {},
   "source": [
    "# Bitwise operation using zeros -AND"
   ]
  },
  {
   "cell_type": "code",
   "execution_count": 1,
   "id": "1d62262f",
   "metadata": {},
   "outputs": [
    {
     "data": {
      "text/plain": [
       "-1"
      ]
     },
     "execution_count": 1,
     "metadata": {},
     "output_type": "execute_result"
    }
   ],
   "source": [
    "import numpy as np\n",
    "import cv2\n",
    "rectangle = np.zeros((300, 300), dtype=\"uint8\")\n",
    "cv2.rectangle(rectangle, (25, 25), (275, 275), 255, -1)\n",
    "cv2.imshow(\"Rectangle\", rectangle)\n",
    "\n",
    "circle = np.zeros((300, 300), dtype = \"uint8\")\n",
    "cv2.circle(circle, (150, 150), 150, 255, -1)\n",
    "cv2.imshow(\"Circle\", circle)\n",
    "\n",
    "bitwiseAnd = cv2.bitwise_and(rectangle, circle)\n",
    "cv2.imshow(\"AND\", bitwiseAnd)\n",
    "cv2.waitKey(0)"
   ]
  },
  {
   "cell_type": "markdown",
   "id": "b6aaa99f",
   "metadata": {},
   "source": [
    "# Bitwise operation using zeros -OR\n"
   ]
  },
  {
   "cell_type": "code",
   "execution_count": 2,
   "id": "b7976cab",
   "metadata": {},
   "outputs": [
    {
     "data": {
      "text/plain": [
       "-1"
      ]
     },
     "execution_count": 2,
     "metadata": {},
     "output_type": "execute_result"
    }
   ],
   "source": [
    "import numpy as np\n",
    "import cv2\n",
    "rectangle = np.zeros((300, 300), dtype=\"uint8\")\n",
    "cv2.rectangle(rectangle, (25, 25), (275, 275), 255, -1)\n",
    "cv2.imshow(\"Rectangle\", rectangle)\n",
    "\n",
    "circle = np.zeros((300, 300), dtype = \"uint8\")\n",
    "cv2.circle(circle, (150, 150), 150, 255, -1)\n",
    "cv2.imshow(\"Circle\", circle)\n",
    "\n",
    "bitwiseOr = cv2.bitwise_or(rectangle, circle)\n",
    "cv2.imshow(\"OR\", bitwiseOr)\n",
    "cv2.waitKey(0)"
   ]
  },
  {
   "cell_type": "markdown",
   "id": "425a225a",
   "metadata": {},
   "source": [
    "# Bitwise operation using zeros -XOR"
   ]
  },
  {
   "cell_type": "code",
   "execution_count": 3,
   "id": "294064b0",
   "metadata": {},
   "outputs": [
    {
     "data": {
      "text/plain": [
       "-1"
      ]
     },
     "execution_count": 3,
     "metadata": {},
     "output_type": "execute_result"
    }
   ],
   "source": [
    "import numpy as np\n",
    "import cv2\n",
    "rectangle = np.zeros((300, 300), dtype=\"uint8\")\n",
    "cv2.rectangle(rectangle, (25, 25), (275, 275), 255, -1)\n",
    "cv2.imshow(\"Rectangle\", rectangle)\n",
    "\n",
    "circle = np.zeros((300, 300), dtype = \"uint8\")\n",
    "cv2.circle(circle, (150, 150), 150, 255, -1)\n",
    "cv2.imshow(\"Circle\", circle)\n",
    "\n",
    "bitwiseXor = cv2.bitwise_xor(rectangle, circle)\n",
    "cv2.imshow(\"XOR\", bitwiseXor)\n",
    "cv2.waitKey(0)"
   ]
  },
  {
   "cell_type": "markdown",
   "id": "8bb0a8d1",
   "metadata": {},
   "source": [
    "# Bitwise operation using zeros-NOT"
   ]
  },
  {
   "cell_type": "code",
   "execution_count": 4,
   "id": "eab42ac4",
   "metadata": {},
   "outputs": [
    {
     "data": {
      "text/plain": [
       "-1"
      ]
     },
     "execution_count": 4,
     "metadata": {},
     "output_type": "execute_result"
    }
   ],
   "source": [
    "import numpy as np\n",
    "import cv2\n",
    "rectangle = np.zeros((300, 300), dtype=\"uint8\")\n",
    "#image = cv2.rectangle(image, start_point, end_point, color, thickness)\n",
    "cv2.rectangle(rectangle, (25, 25), (275, 275), 255, -1)\n",
    "cv2.imshow(\"Rectangle\", rectangle)\n",
    "\n",
    "circle = np.zeros((300, 300), dtype = \"uint8\")\n",
    "cv2.circle(circle, (150, 150), 150, 255, -1)\n",
    "cv2.imshow(\"Circle\", circle)\n",
    "\n",
    "bitwiseXor = cv2.bitwise_xor(rectangle, circle)\n",
    "cv2.imshow(\"XOR\", bitwiseXor)\n",
    "cv2.waitKey(0)\n",
    "\n",
    "bitwiseNot = cv2.bitwise_not(circle)\n",
    "cv2.imshow(\"NOT\", bitwiseNot)\n",
    "cv2.waitKey(0)"
   ]
  },
  {
   "cell_type": "code",
   "execution_count": null,
   "id": "6ee04ced",
   "metadata": {},
   "outputs": [],
   "source": []
  }
 ],
 "metadata": {
  "kernelspec": {
   "display_name": "Python 3 (ipykernel)",
   "language": "python",
   "name": "python3"
  },
  "language_info": {
   "codemirror_mode": {
    "name": "ipython",
    "version": 3
   },
   "file_extension": ".py",
   "mimetype": "text/x-python",
   "name": "python",
   "nbconvert_exporter": "python",
   "pygments_lexer": "ipython3",
   "version": "3.9.13"
  }
 },
 "nbformat": 4,
 "nbformat_minor": 5
}
