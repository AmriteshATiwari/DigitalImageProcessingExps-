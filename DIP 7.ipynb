{
 "cells": [
  {
   "cell_type": "code",
   "execution_count": 1,
   "id": "e688b195",
   "metadata": {},
   "outputs": [],
   "source": [
    "import cv2\n",
    "import numpy as np"
   ]
  },
  {
   "cell_type": "code",
   "execution_count": 2,
   "id": "41af2eb9",
   "metadata": {},
   "outputs": [],
   "source": [
    "img = cv2.imread('lenna.jpg')"
   ]
  },
  {
   "cell_type": "code",
   "execution_count": 4,
   "id": "7cfee8ee",
   "metadata": {},
   "outputs": [],
   "source": [
    "img1=cv2.cvtColor(img,cv2.COLOR_BGR2GRAY)"
   ]
  },
  {
   "cell_type": "code",
   "execution_count": 6,
   "id": "d66b87df",
   "metadata": {},
   "outputs": [],
   "source": [
    "x, y= img1.shape"
   ]
  },
  {
   "cell_type": "code",
   "execution_count": 7,
   "id": "16550111",
   "metadata": {},
   "outputs": [],
   "source": [
    "mask = np.ones([3, 3], dtype = int)\n",
    "mask = mask / 9"
   ]
  },
  {
   "cell_type": "code",
   "execution_count": 11,
   "id": "7146f303",
   "metadata": {},
   "outputs": [],
   "source": [
    "img_new = np.zeros([x, y])\n",
    "  \n",
    "for i in range(1, x-1):\n",
    "    for j in range(1, y-1):\n",
    "        temp = img1[i-1, j-1]*mask[0, 0]+img1[i-1, j]*mask[0, 1]+img1[i-1, j + 1]*mask[0, 2]+img1[i, j-1]*mask[1, 0]+ img1[i, j]*mask[1, 1]+img1[i, j + 1]*mask[1, 2]+img1[i + 1, j-1]*mask[2, 0]+img1[i + 1, j]*mask[2, 1]+img1[i + 1, j + 1]*mask[2, 2]\n",
    "         \n",
    "        img_new[i, j]= temp"
   ]
  },
  {
   "cell_type": "code",
   "execution_count": 12,
   "id": "e010e1f3",
   "metadata": {},
   "outputs": [],
   "source": [
    "img_new = img_new.astype(np.uint8)"
   ]
  },
  {
   "cell_type": "code",
   "execution_count": 30,
   "id": "ec6f6d88",
   "metadata": {},
   "outputs": [
    {
     "data": {
      "text/plain": [
       "-1"
      ]
     },
     "execution_count": 30,
     "metadata": {},
     "output_type": "execute_result"
    }
   ],
   "source": [
    "cv2.imshow(\"Original\",img)\n",
    "cv2.waitKey(0)\n",
    "cv2.imshow(\"Average\",img_new)\n",
    "cv2.waitKey(0)"
   ]
  },
  {
   "cell_type": "code",
   "execution_count": 16,
   "id": "976a2061",
   "metadata": {},
   "outputs": [],
   "source": [
    "img_new1 = np.zeros([x, y])\n",
    "for i in range(1, x-1):\n",
    "    for j in range(1, y-1):\n",
    "        temp = [img1[i-1, j-1],\n",
    "               img1[i-1, j],\n",
    "               img1[i-1, j + 1],\n",
    "               img1[i, j-1],\n",
    "               img1[i, j],\n",
    "               img1[i, j + 1],\n",
    "               img1[i + 1, j-1],\n",
    "               img1[i + 1, j],\n",
    "               img1[i + 1, j + 1]]\n",
    "          \n",
    "        temp = sorted(temp)\n",
    "        img_new1[i, j]= temp[4]"
   ]
  },
  {
   "cell_type": "code",
   "execution_count": 17,
   "id": "ffdf9164",
   "metadata": {},
   "outputs": [],
   "source": [
    "img_new1 = img_new1.astype(np.uint8)"
   ]
  },
  {
   "cell_type": "code",
   "execution_count": 31,
   "id": "ed4e0acb",
   "metadata": {},
   "outputs": [
    {
     "data": {
      "text/plain": [
       "-1"
      ]
     },
     "execution_count": 31,
     "metadata": {},
     "output_type": "execute_result"
    }
   ],
   "source": [
    "cv2.imshow(\"Original\",img)\n",
    "cv2.waitKey(0)\n",
    "cv2.imshow(\"Median\",img_new1)\n",
    "cv2.waitKey(0)"
   ]
  },
  {
   "cell_type": "code",
   "execution_count": 26,
   "id": "48e2cda9",
   "metadata": {},
   "outputs": [
    {
     "name": "stderr",
     "output_type": "stream",
     "text": [
      "C:\\Users\\Dell\\AppData\\Local\\Temp\\ipykernel_5724\\4290454240.py:4: RuntimeWarning: overflow encountered in ubyte_scalars\n",
      "  temp = img1[i-1, j-1]+ img1[i-1, j]+ img1[i-1, j + 1]+ img1[i, j-1]+ img1[i, j]+ img1[i, j + 1]+ img1[i + 1, j-1]+ img1[i + 1, j]+ img1[i + 1, j + 1]\n"
     ]
    }
   ],
   "source": [
    "img_new2 = np.zeros([x, y])\n",
    "for i in range(1, x-1):\n",
    "    for j in range(1, y-1):\n",
    "        temp = img1[i-1, j-1]+ img1[i-1, j]+ img1[i-1, j + 1]+ img1[i, j-1]+ img1[i, j]+ img1[i, j + 1]+ img1[i + 1, j-1]+ img1[i + 1, j]+ img1[i + 1, j + 1]"
   ]
  },
  {
   "cell_type": "code",
   "execution_count": 27,
   "id": "05edcd1c",
   "metadata": {},
   "outputs": [],
   "source": [
    "img_new2[i, j]= (temp//9)"
   ]
  },
  {
   "cell_type": "code",
   "execution_count": 28,
   "id": "d738d677",
   "metadata": {},
   "outputs": [],
   "source": [
    "img_new2 = img_new.astype(np.uint8)"
   ]
  },
  {
   "cell_type": "code",
   "execution_count": 32,
   "id": "1c2ceef8",
   "metadata": {},
   "outputs": [
    {
     "data": {
      "text/plain": [
       "-1"
      ]
     },
     "execution_count": 32,
     "metadata": {},
     "output_type": "execute_result"
    }
   ],
   "source": [
    "cv2.imshow(\"Original\",img)\n",
    "cv2.waitKey(0)\n",
    "cv2.imshow(\"Mean\",img_new2)\n",
    "cv2.waitKey(0)"
   ]
  },
  {
   "cell_type": "code",
   "execution_count": null,
   "id": "b7a18842",
   "metadata": {},
   "outputs": [],
   "source": []
  }
 ],
 "metadata": {
  "kernelspec": {
   "display_name": "Python 3 (ipykernel)",
   "language": "python",
   "name": "python3"
  },
  "language_info": {
   "codemirror_mode": {
    "name": "ipython",
    "version": 3
   },
   "file_extension": ".py",
   "mimetype": "text/x-python",
   "name": "python",
   "nbconvert_exporter": "python",
   "pygments_lexer": "ipython3",
   "version": "3.9.13"
  }
 },
 "nbformat": 4,
 "nbformat_minor": 5
}
