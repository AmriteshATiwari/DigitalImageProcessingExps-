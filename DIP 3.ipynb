{
 "cells": [
  {
   "cell_type": "markdown",
   "id": "fade90f2",
   "metadata": {},
   "source": [
    "### Implementation of Sampling and Quantization \n",
    "up sampling"
   ]
  },
  {
   "cell_type": "code",
   "execution_count": 2,
   "id": "6d4f0e3a",
   "metadata": {},
   "outputs": [
    {
     "name": "stdout",
     "output_type": "stream",
     "text": [
      "original dimension (129, 129, 3)\n",
      "resized image  (200, 200, 3)\n"
     ]
    },
    {
     "data": {
      "text/plain": [
       "-1"
      ]
     },
     "execution_count": 2,
     "metadata": {},
     "output_type": "execute_result"
    }
   ],
   "source": [
    "import cv2\n",
    "path=r'leena.jpg'\n",
    "img=cv2.imread(path)\n",
    "print('original dimension',img.shape)\n",
    "resized=cv2.resize(img,(200,200))\n",
    "print('resized image ',resized.shape)\n",
    "cv2.imshow(\"Resized image\", resized)\n",
    "cv2.waitKey(0)"
   ]
  },
  {
   "cell_type": "markdown",
   "id": "f271a0a9",
   "metadata": {},
   "source": [
    "### Down sampling\n"
   ]
  },
  {
   "cell_type": "code",
   "execution_count": 5,
   "id": "ff826ad9",
   "metadata": {},
   "outputs": [
    {
     "name": "stdout",
     "output_type": "stream",
     "text": [
      "original dimension (129, 129, 3)\n",
      "resized image  (129, 160, 3)\n"
     ]
    },
    {
     "data": {
      "text/plain": [
       "-1"
      ]
     },
     "execution_count": 5,
     "metadata": {},
     "output_type": "execute_result"
    }
   ],
   "source": [
    "import cv2\n",
    "path=r'leena.jpg'\n",
    "img=cv2.imread(path)\n",
    "print('original dimension',img.shape)\n",
    "resized=cv2.resize(img,(160,129))\n",
    "print('resized image ',resized.shape)\n",
    "cv2.imshow(\"Resized image\", resized)\n",
    "cv2.waitKey(0)"
   ]
  },
  {
   "cell_type": "markdown",
   "id": "3ce69ddd",
   "metadata": {},
   "source": [
    "## Pyramid up"
   ]
  },
  {
   "cell_type": "code",
   "execution_count": 13,
   "id": "342a73ff",
   "metadata": {},
   "outputs": [
    {
     "name": "stdout",
     "output_type": "stream",
     "text": [
      "(258, 258, 3)\n"
     ]
    },
    {
     "data": {
      "text/plain": [
       "-1"
      ]
     },
     "execution_count": 13,
     "metadata": {},
     "output_type": "execute_result"
    }
   ],
   "source": [
    "import cv2\n",
    "path=r'leena.jpg'\n",
    "img=cv2.imread(path)\n",
    "pyr=cv2.pyrUp(img)\n",
    "cv2.imshow('pyramid',pyr)\n",
    "print(pyr.shape)\n",
    "cv2.waitKey(0)"
   ]
  },
  {
   "cell_type": "markdown",
   "id": "a71007ce",
   "metadata": {},
   "source": [
    "## pyramid Down"
   ]
  },
  {
   "cell_type": "code",
   "execution_count": 12,
   "id": "03ed35b0",
   "metadata": {},
   "outputs": [
    {
     "name": "stdout",
     "output_type": "stream",
     "text": [
      "(65, 65, 3)\n"
     ]
    },
    {
     "data": {
      "text/plain": [
       "-1"
      ]
     },
     "execution_count": 12,
     "metadata": {},
     "output_type": "execute_result"
    }
   ],
   "source": [
    "import cv2\n",
    "path=r'leena.jpg'\n",
    "img=cv2.imread(path)\n",
    "pyr=cv2.pyrDown(img)\n",
    "cv2.imshow('pyramid',pyr)\n",
    "print(pyr.shape)\n",
    "cv2.waitKey(0)"
   ]
  },
  {
   "cell_type": "markdown",
   "id": "6675b366",
   "metadata": {},
   "source": [
    "## resize using scale"
   ]
  },
  {
   "cell_type": "code",
   "execution_count": 27,
   "id": "dd1c20c2",
   "metadata": {},
   "outputs": [
    {
     "name": "stdout",
     "output_type": "stream",
     "text": [
      "original dimension (129, 129, 3)\n"
     ]
    },
    {
     "data": {
      "text/plain": [
       "-1"
      ]
     },
     "execution_count": 27,
     "metadata": {},
     "output_type": "execute_result"
    }
   ],
   "source": [
    "import cv2\n",
    "path=r'leena.jpg'\n",
    "img=cv2.imread(path)\n",
    "print('original dimension',img.shape)\n",
    "per=60\n",
    "width=img.shape[0]\n",
    "height=img.shape[1]\n",
    "dim=(width*per//100,height*per//100)\n",
    "resized=cv2.resize(img,dim)\n",
    "cv2.imshow(\"Resized image\", resized)\n",
    "cv2.waitKey(0)"
   ]
  },
  {
   "cell_type": "markdown",
   "id": "5d5194d7",
   "metadata": {},
   "source": [
    "## Scale image using user input as scale value"
   ]
  },
  {
   "cell_type": "code",
   "execution_count": 29,
   "id": "7c12f28b",
   "metadata": {},
   "outputs": [
    {
     "name": "stdout",
     "output_type": "stream",
     "text": [
      "Enter % : 80\n"
     ]
    },
    {
     "data": {
      "text/plain": [
       "-1"
      ]
     },
     "execution_count": 29,
     "metadata": {},
     "output_type": "execute_result"
    }
   ],
   "source": [
    "import cv2\n",
    "path=r'leena.jpg'\n",
    "img=cv2.imread(path)\n",
    "per=int(input(\"Enter % : \"))\n",
    "width=img.shape[0]\n",
    "height=img.shape[1]\n",
    "dim=(width*per//100,height*per//100)\n",
    "resized=cv2.resize(img,dim)\n",
    "cv2.imshow(\"Resized image\", resized)\n",
    "cv2.waitKey(0)"
   ]
  },
  {
   "cell_type": "markdown",
   "id": "d10f3c32",
   "metadata": {},
   "source": [
    "## Quantization"
   ]
  },
  {
   "cell_type": "code",
   "execution_count": 37,
   "id": "d1d4f225",
   "metadata": {},
   "outputs": [],
   "source": [
    "from PIL import Image\n",
    "import PIL\n",
    "path=r'leena.jpg'\n",
    "img=Image.open(path)\n",
    "img=img.quantize(5)\n",
    "img.show()"
   ]
  },
  {
   "cell_type": "markdown",
   "id": "a1fe2a8f",
   "metadata": {},
   "source": []
  },
  {
   "cell_type": "markdown",
   "id": "d56a4a60",
   "metadata": {},
   "source": []
  }
 ],
 "metadata": {
  "kernelspec": {
   "display_name": "Python 3 (ipykernel)",
   "language": "python",
   "name": "python3"
  },
  "language_info": {
   "codemirror_mode": {
    "name": "ipython",
    "version": 3
   },
   "file_extension": ".py",
   "mimetype": "text/x-python",
   "name": "python",
   "nbconvert_exporter": "python",
   "pygments_lexer": "ipython3",
   "version": "3.9.13"
  }
 },
 "nbformat": 4,
 "nbformat_minor": 5
}
