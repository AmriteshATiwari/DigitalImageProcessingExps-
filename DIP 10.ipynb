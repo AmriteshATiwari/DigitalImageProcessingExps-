{
 "cells": [
  {
   "cell_type": "markdown",
   "id": "c228574e",
   "metadata": {},
   "source": [
    "# Hough Transform:-"
   ]
  },
  {
   "cell_type": "code",
   "execution_count": null,
   "id": "0ebff3f8",
   "metadata": {},
   "outputs": [],
   "source": [
    "\n",
    "import cv2\n",
    "import numpy as np\n",
    "image = cv2.imread('leena.png')\n",
    "  \n",
    "gray = cv2.cvtColor(image,cv2.COLOR_BGR2GRAY)\n",
    "  \n",
    "edges = cv2.Canny(gray,50,150,apertureSize=3)\n",
    "  \n",
    "\n",
    "lines_list =[]\n",
    "lines = cv2.HoughLinesP(edges, 1, np.pi/180,threshold=100, minLineLength=5,  maxLineGap=10  )\n",
    "  \n",
    "\n",
    "for points in lines:\n",
    "     \n",
    "    x1,y1,x2,y2=points[0]\n",
    "    \n",
    "    cv2.line(image,(x1,y1),(x2,y2),(0,255,0),2)\n",
    "    \n",
    "    lines_list.append([(x1,y1),(x2,y2)])\n",
    "      \n",
    "\n",
    "cv2.imshow('hough trnasform', image)\n",
    "cv2.waitKey(0)"
   ]
  }
 ],
 "metadata": {
  "kernelspec": {
   "display_name": "Python 3 (ipykernel)",
   "language": "python",
   "name": "python3"
  },
  "language_info": {
   "codemirror_mode": {
    "name": "ipython",
    "version": 3
   },
   "file_extension": ".py",
   "mimetype": "text/x-python",
   "name": "python",
   "nbconvert_exporter": "python",
   "pygments_lexer": "ipython3",
   "version": "3.9.13"
  }
 },
 "nbformat": 4,
 "nbformat_minor": 5
}
