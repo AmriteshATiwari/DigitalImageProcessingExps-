{
 "cells": [
  {
   "cell_type": "markdown",
   "id": "7eae2136",
   "metadata": {},
   "source": [
    "## image negative"
   ]
  },
  {
   "cell_type": "code",
   "execution_count": 12,
   "id": "00115096",
   "metadata": {},
   "outputs": [
    {
     "name": "stdout",
     "output_type": "stream",
     "text": [
      "uint8\n",
      "255\n"
     ]
    },
    {
     "data": {
      "text/plain": [
       "-1"
      ]
     },
     "execution_count": 12,
     "metadata": {},
     "output_type": "execute_result"
    }
   ],
   "source": [
    "import cv2\n",
    "import numpy as np\n",
    "\n",
    "img = cv2.imread('leena.jpg')\n",
    "\n",
    "print(img.dtype)\n",
    "print(img.max())\n",
    "img1_max=img.max()\n",
    "img_neg = img1_max - img\n",
    "\n",
    "cv2.imshow('negative',img_neg)\n",
    "cv2.waitKey(0)"
   ]
  },
  {
   "cell_type": "markdown",
   "id": "87a2375d",
   "metadata": {},
   "source": [
    "### log transformation"
   ]
  },
  {
   "cell_type": "code",
   "execution_count": 4,
   "id": "6e8bbf0a",
   "metadata": {},
   "outputs": [
    {
     "name": "stdout",
     "output_type": "stream",
     "text": [
      "45.98590442833571\n",
      "[[[217 226 249]\n",
      "  [217 225 249]\n",
      "  [219 226 249]\n",
      "  ...\n",
      "  [212 212 241]\n",
      "  [226 225 248]\n",
      "  [229 226 248]]\n",
      "\n",
      " [[216 225 249]\n",
      "  [217 225 249]\n",
      "  [218 225 249]\n",
      "  ...\n",
      "  [216 214 242]\n",
      "  [212 209 239]\n",
      "  [207 199 233]]\n",
      "\n",
      " [[215 225 248]\n",
      "  [216 225 248]\n",
      "  [218 225 249]\n",
      "  ...\n",
      "  [203 198 234]\n",
      "  [180 167 221]\n",
      "  [149  82 206]]\n",
      "\n",
      " ...\n",
      "\n",
      " [[184 154 211]\n",
      "  [189 168 213]\n",
      "  [187 170 211]\n",
      "  ...\n",
      "  [189 163 215]\n",
      "  [193 169 217]\n",
      "  [191 167 218]]\n",
      "\n",
      " [[184 153 209]\n",
      "  [184 158 209]\n",
      "  [182 159 209]\n",
      "  ...\n",
      "  [191 166 216]\n",
      "  [196 173 219]\n",
      "  [204 189 228]]\n",
      "\n",
      " [[183 153 205]\n",
      "  [186 158 209]\n",
      "  [182 151 207]\n",
      "  ...\n",
      "  [198 173 220]\n",
      "  [208 190 229]\n",
      "  [210 198 234]]]\n"
     ]
    },
    {
     "name": "stderr",
     "output_type": "stream",
     "text": [
      "C:\\Users\\DELL\\AppData\\Local\\Temp\\ipykernel_11908\\683077239.py:8: RuntimeWarning: divide by zero encountered in log\n",
      "  log_image = c * (np.log(image + 1))\n"
     ]
    },
    {
     "data": {
      "text/plain": [
       "-1"
      ]
     },
     "execution_count": 4,
     "metadata": {},
     "output_type": "execute_result"
    }
   ],
   "source": [
    "import cv2\n",
    "import numpy as np\n",
    "\n",
    "image = cv2.imread('leena.jpg')\n",
    "\n",
    "c = 255 / np.log(1 + 255)\n",
    "print(c)\n",
    "log_image = c * (np.log(image + 1))\n",
    "\n",
    "log_image = np.array(log_image, dtype = np.uint8)\n",
    "print(log_image)\n",
    "cv2.imshow(\"\",image)\n",
    "\n",
    "cv2.imshow(\"\",log_image)\n",
    "\n",
    "cv2.waitKey(0)"
   ]
  },
  {
   "cell_type": "markdown",
   "id": "5865306e",
   "metadata": {},
   "source": [
    "### gama transformation"
   ]
  },
  {
   "cell_type": "code",
   "execution_count": 10,
   "id": "95af1d2f",
   "metadata": {},
   "outputs": [],
   "source": [
    "import cv2\n",
    "import numpy as np\n",
    "\n",
    "img = cv2.imread('leena.jpg')\n",
    "img_gamma=c*pow(img,16)\n",
    "img_new=np.array(img_gamma,dtype=np.uint8)\n",
    "cv2.imshow('Original image', img)\n",
    "cv2.imshow('Gamma corrected image', img_new)\n",
    "cv2.waitKey(0)\n",
    "cv2.destroyAllWindows()"
   ]
  },
  {
   "cell_type": "markdown",
   "id": "e8310916",
   "metadata": {},
   "source": [
    "### Thresholding"
   ]
  },
  {
   "cell_type": "code",
   "execution_count": 8,
   "id": "72622513",
   "metadata": {},
   "outputs": [
    {
     "data": {
      "text/plain": [
       "-1"
      ]
     },
     "execution_count": 8,
     "metadata": {},
     "output_type": "execute_result"
    }
   ],
   "source": [
    "import cv2\n",
    "import numpy as np\n",
    "\n",
    "img = cv2.imread('leena.jpg')\n",
    "ret, thresh = cv2.threshold(img, 127, 255, cv2.THRESH_BINARY)\n",
    " \n",
    "cv2.imshow('Binary Threshold', thresh)\n",
    "\n",
    "cv2.waitKey(0)"
   ]
  },
  {
   "cell_type": "code",
   "execution_count": 12,
   "id": "90f68b92",
   "metadata": {},
   "outputs": [
    {
     "data": {
      "text/plain": [
       "-1"
      ]
     },
     "execution_count": 12,
     "metadata": {},
     "output_type": "execute_result"
    }
   ],
   "source": [
    "import cv2\n",
    "import numpy as np\n",
    "\n",
    "img = cv2.imread('leena.jpg')\n",
    "ret, thresh = cv2.threshold(img, 109, 367, cv2.THRESH_TRUNC)\n",
    " \n",
    "cv2.imshow('Truncate Threshold', thresh)\n",
    "\n",
    "cv2.waitKey(0)"
   ]
  },
  {
   "cell_type": "code",
   "execution_count": 17,
   "id": "60605f50",
   "metadata": {},
   "outputs": [
    {
     "name": "stdout",
     "output_type": "stream",
     "text": [
      "(129, 129, 3)\n"
     ]
    },
    {
     "data": {
      "text/plain": [
       "-1"
      ]
     },
     "execution_count": 17,
     "metadata": {},
     "output_type": "execute_result"
    }
   ],
   "source": [
    "import cv2\n",
    "import numpy as np\n",
    "\n",
    "img = cv2.imread('leena.jpg')\n",
    "print(img.shape)\n",
    "ret, thresh = cv2.threshold(img, 127, 267, cv2.THRESH_TOZERO)\n",
    " \n",
    "cv2.imshow('zero Threshold', thresh)\n",
    "\n",
    "cv2.waitKey(0)"
   ]
  },
  {
   "cell_type": "markdown",
   "id": "32e57e5b",
   "metadata": {},
   "source": [
    "### user defined thresholding value"
   ]
  },
  {
   "cell_type": "code",
   "execution_count": 25,
   "id": "6319c277",
   "metadata": {},
   "outputs": [
    {
     "data": {
      "text/plain": [
       "-1"
      ]
     },
     "execution_count": 25,
     "metadata": {},
     "output_type": "execute_result"
    }
   ],
   "source": [
    "\n",
    "import cv2\n",
    "import numpy as np\n",
    "\n",
    "img = cv2.imread('leena.jpg')\n",
    "\n",
    "def thresholdimg(img, n):\n",
    "    img_shape = img.shape\n",
    "   \n",
    "    for row in range( img_shape[0]):\n",
    "        for column in range( img_shape[1]):\n",
    "            if img[column, row] > s:\n",
    "                img[column, row] = 0\n",
    "            else:\n",
    "                img[column, row] = 255\n",
    "    return \n",
    "cv2.imshow(' Threshold', thresh)\n",
    "\n",
    "cv2.waitKey(0)"
   ]
  },
  {
   "cell_type": "code",
   "execution_count": null,
   "id": "3128af5d",
   "metadata": {},
   "outputs": [],
   "source": []
  }
 ],
 "metadata": {
  "kernelspec": {
   "display_name": "Python 3 (ipykernel)",
   "language": "python",
   "name": "python3"
  },
  "language_info": {
   "codemirror_mode": {
    "name": "ipython",
    "version": 3
   },
   "file_extension": ".py",
   "mimetype": "text/x-python",
   "name": "python",
   "nbconvert_exporter": "python",
   "pygments_lexer": "ipython3",
   "version": "3.9.13"
  }
 },
 "nbformat": 4,
 "nbformat_minor": 5
}
