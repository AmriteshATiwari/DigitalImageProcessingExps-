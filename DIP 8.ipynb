{
 "cells": [
  {
   "cell_type": "code",
   "execution_count": null,
   "id": "75c11520",
   "metadata": {},
   "outputs": [],
   "source": [
    " "
   ]
  },
  {
   "cell_type": "code",
   "execution_count": null,
   "id": "d12674e5",
   "metadata": {},
   "outputs": [],
   "source": [
    "import cv2\n",
    "import numpy as np\n",
    "import math\n",
    "img=cv2.imread('leena.jpg')\n",
    "               \n",
    "bgr=np.float32(img)/255\n",
    "b=bgr[:,:,0]\n",
    "g=bgr[:,:,1]\n",
    "r=bgr[:,:,2]\n",
    "\n",
    "I=np.divide(b+g+r,3)\n",
    "minimum=np.minimum(np.minimum(r,g),b)\n",
    "S=1-(3*minimum/(b+g+r))\n",
    "\n",
    "H=np.copy(r)\n",
    "for i in range(img.shape[0]):\n",
    "    for j in range(img.shape[1]):\n",
    "        H[i][j]=0.5*(((r[i][j]-g[i][j])+(r[i][j]-b[i][j]))/math.sqrt(((r[i][j]-g[i][j])*(r[i][j]-g[i][j]))+((r[i][j]-b[i][j])*(g[i][j]-b[i][j]))))\n",
    "        H[i][j]=math.acos(H[i][j])\n",
    "        if(b[i][j]<=g[i][j]):\n",
    "            H[i][j]=H[i][j]\n",
    "        else:\n",
    "            H[i][j]=((360*math.pi)/180.0)-H[i][j]\n",
    "img1=np.zeros(img.shape)\n",
    "img1[:,:,0]=H\n",
    "img1[:,:,1]=S\n",
    "img1[:,:,2]=I\n",
    "cv2.imshow('HSI Image',img1)\n",
    "cv2.waitKey(0)\n",
    "                     \n",
    "                    "
   ]
  },
  {
   "cell_type": "code",
   "execution_count": null,
   "id": "1ddd732f",
   "metadata": {},
   "outputs": [],
   "source": []
  },
  {
   "cell_type": "code",
   "execution_count": null,
   "id": "da502aae",
   "metadata": {},
   "outputs": [],
   "source": []
  }
 ],
 "metadata": {
  "kernelspec": {
   "display_name": "Python 3 (ipykernel)",
   "language": "python",
   "name": "python3"
  },
  "language_info": {
   "codemirror_mode": {
    "name": "ipython",
    "version": 3
   },
   "file_extension": ".py",
   "mimetype": "text/x-python",
   "name": "python",
   "nbconvert_exporter": "python",
   "pygments_lexer": "ipython3",
   "version": "3.9.13"
  }
 },
 "nbformat": 4,
 "nbformat_minor": 5
}
