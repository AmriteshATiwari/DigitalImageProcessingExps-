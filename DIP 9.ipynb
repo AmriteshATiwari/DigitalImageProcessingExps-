{
 "cells": [
  {
   "cell_type": "code",
   "execution_count": 8,
   "id": "60d54e67",
   "metadata": {},
   "outputs": [],
   "source": [
    "import cv2\n",
    "import numpy as np\n",
    "from scipy import ndimage"
   ]
  },
  {
   "cell_type": "code",
   "execution_count": 9,
   "id": "d6193c5c",
   "metadata": {},
   "outputs": [],
   "source": [
    "img=cv2.imread(\"lenna.jpg\")\n",
    "img1=cv2.cvtColor(img, cv2.COLOR_BGR2GRAY)"
   ]
  },
  {
   "cell_type": "code",
   "execution_count": 10,
   "id": "2a6174e5",
   "metadata": {},
   "outputs": [],
   "source": [
    "x = np.array([[-1, 0, 1], [-2, 0, 2], [-1, 0, 1]], np.float32)\n",
    "y = np.array([[1, 2, 1], [0, 0, 0], [-1, -2, -1]], np.float32)"
   ]
  },
  {
   "cell_type": "markdown",
   "id": "7f44c32a",
   "metadata": {},
   "source": [
    "## Sobel Filter"
   ]
  },
  {
   "cell_type": "code",
   "execution_count": 11,
   "id": "fd6cb8cc",
   "metadata": {},
   "outputs": [],
   "source": [
    "[R,C]=img1.shape\n",
    "img_sobel = np.zeros(img1.shape)\n",
    "for i in range(R-2):\n",
    "    for j in range(C-2):\n",
    "        gx=np.sum(np.multiply(x,img1[i:i+3,j:j+3]))\n",
    "        gy=np.sum(np.multiply(img1[i:i+3,j:j+3],y))\n",
    "        img_sobel[i+1][j+1]=np.sqrt(gx**2+gy**2)\n",
    "img_sobel*=255/img_sobel.max()\n",
    "img_sobel = img_sobel.astype(np.uint8)"
   ]
  },
  {
   "cell_type": "code",
   "execution_count": 12,
   "id": "d852a335",
   "metadata": {},
   "outputs": [
    {
     "data": {
      "text/plain": [
       "-1"
      ]
     },
     "execution_count": 12,
     "metadata": {},
     "output_type": "execute_result"
    }
   ],
   "source": [
    "cv2.imshow(\"\",img_sobel)\n",
    "cv2.waitKey(0)"
   ]
  },
  {
   "cell_type": "markdown",
   "id": "f45fbd69",
   "metadata": {},
   "source": [
    "## Prewit Filter"
   ]
  },
  {
   "cell_type": "code",
   "execution_count": 13,
   "id": "7f90fcf1",
   "metadata": {},
   "outputs": [],
   "source": [
    "x = np.array([[-1, 0, 1], [-1, 0, 1], [-1, 0, 1]], np.float32)\n",
    "y = np.array([[-1, -1, -1], [0, 0, 0], [1, 1, 1]], np.float32)"
   ]
  },
  {
   "cell_type": "code",
   "execution_count": 14,
   "id": "0b93f5e1",
   "metadata": {},
   "outputs": [],
   "source": [
    "[R,C]=img1.shape\n",
    "img_prewit = np.zeros(img1.shape)\n",
    "for i in range(R-2):\n",
    "    for j in range(C-2):\n",
    "        gx=np.sum(np.multiply(x,img1[i:i+3,j:j+3]))\n",
    "        gy=np.sum(np.multiply(img1[i:i+3,j:j+3],y))\n",
    "        img_prewit[i+1][j+1]=np.sqrt(gx**2+gy**2)\n",
    "img_prewit*=255/img_prewit.max()\n",
    "img_prewit = img_prewit.astype(np.uint8)"
   ]
  },
  {
   "cell_type": "code",
   "execution_count": 15,
   "id": "5b1bd799",
   "metadata": {},
   "outputs": [
    {
     "data": {
      "text/plain": [
       "-1"
      ]
     },
     "execution_count": 15,
     "metadata": {},
     "output_type": "execute_result"
    }
   ],
   "source": [
    "cv2.imshow(\"\",img_prewit)\n",
    "cv2.waitKey(0)"
   ]
  },
  {
   "cell_type": "code",
   "execution_count": 16,
   "id": "280ca2a0",
   "metadata": {},
   "outputs": [
    {
     "data": {
      "text/plain": [
       "-1"
      ]
     },
     "execution_count": 16,
     "metadata": {},
     "output_type": "execute_result"
    }
   ],
   "source": [
    "import cv2\n",
    "import numpy as np\n",
    "img = cv2.imread(\"lenna.jpg\")  \n",
    "\n",
    "img_gray = cv2.cvtColor(img, cv2.COLOR_BGR2GRAY)\n",
    "\n",
    "sobelx = cv2.Sobel(src=img_gray, ddepth=cv2.CV_64F, dx=1, dy=0, ksize=5)\n",
    "sobely = cv2.Sobel(src=img_gray, ddepth=cv2.CV_64F, dx=0, dy=1, ksize=5)\n",
    "\n",
    "laplacian=cv2.Laplacian(img_gray,cv2.CV_64F)\n",
    "cv2.imshow('laplacian', laplacian)\n",
    "cv2.waitKey(0)\n",
    "\n",
    "edges = cv2.Canny(image=img_gray, threshold1=30, threshold2=120)\n",
    "cv2.imshow('Canny Edge Detection', edges)\n",
    "cv2.waitKey(0)"
   ]
  },
  {
   "cell_type": "code",
   "execution_count": null,
   "id": "bf5b0d83",
   "metadata": {},
   "outputs": [],
   "source": []
  }
 ],
 "metadata": {
  "kernelspec": {
   "display_name": "Python 3 (ipykernel)",
   "language": "python",
   "name": "python3"
  },
  "language_info": {
   "codemirror_mode": {
    "name": "ipython",
    "version": 3
   },
   "file_extension": ".py",
   "mimetype": "text/x-python",
   "name": "python",
   "nbconvert_exporter": "python",
   "pygments_lexer": "ipython3",
   "version": "3.9.13"
  }
 },
 "nbformat": 4,
 "nbformat_minor": 5
}
